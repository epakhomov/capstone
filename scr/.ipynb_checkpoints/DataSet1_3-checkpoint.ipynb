{
 "cells": [
  {
   "cell_type": "code",
   "execution_count": 76,
   "id": "55ebb5a3",
   "metadata": {},
   "outputs": [],
   "source": [
    "import pandas as pd\n",
    "import seaborn as sns\n",
    "import numpy as np\n",
    "import matplotlib.pyplot as plt\n",
    "#import tensorflow as tf\n",
    "import shap\n",
    "\n",
    "from sklearn.feature_selection import mutual_info_classif\n",
    "\n",
    "from sklearn.model_selection import train_test_split, GridSearchCV\n",
    "from sklearn.preprocessing import StandardScaler\n",
    "from sklearn.dummy import DummyClassifier\n",
    "from sklearn.metrics import confusion_matrix, classification_report, f1_score, precision_score\n",
    "from sklearn.linear_model import LogisticRegression\n",
    "from sklearn.metrics import recall_score, f1_score\n",
    "from sklearn.neighbors import KNeighborsClassifier\n",
    "from sklearn.tree import DecisionTreeClassifier\n",
    "from sklearn.svm import SVC\n",
    "from sklearn.pipeline import Pipeline\n",
    "\n",
    "from sklearn.feature_selection import SequentialFeatureSelector\n",
    "from sklearn.decomposition import PCA\n",
    "from sklearn.metrics import roc_auc_score\n",
    "from sklearn.ensemble import RandomForestClassifier\n",
    "import xgboost as xgb\n",
    "from sklearn.feature_selection import RFE\n",
    "from sklearn.feature_selection import VarianceThreshold\n",
    "from sklearn.metrics import make_scorer\n",
    "from shap import TreeExplainer\n",
    "from shap import summary_plot\n",
    "\n",
    "# from tensorflow.keras.models import Sequential\n",
    "# from tensorflow.keras.layers import Dense\n",
    "# from tensorflow.keras.callbacks import EarlyStopping\n",
    "# from sklearn.metrics import classification_report, confusion_matrix, roc_auc_score, recall_score\n",
    "# from tensorflow.keras.metrics import AUC, Recall\n"
   ]
  },
  {
   "cell_type": "code",
   "execution_count": 77,
   "id": "41e8e816",
   "metadata": {},
   "outputs": [],
   "source": [
    "df = pd.read_csv('https://raw.githubusercontent.com/GregaVrbancic/Phishing-Dataset/master/dataset_full.csv')"
   ]
  },
  {
   "cell_type": "code",
   "execution_count": 78,
   "id": "1442257c",
   "metadata": {},
   "outputs": [],
   "source": [
    "df2 = df.sample(n=20000, random_state=42)"
   ]
  },
  {
   "cell_type": "code",
   "execution_count": 79,
   "id": "ebbe6c58",
   "metadata": {},
   "outputs": [
    {
     "data": {
      "text/plain": [
       "(20000, 112)"
      ]
     },
     "execution_count": 79,
     "metadata": {},
     "output_type": "execute_result"
    }
   ],
   "source": [
    "df2.shape"
   ]
  },
  {
   "cell_type": "code",
   "execution_count": 80,
   "id": "847f24fb",
   "metadata": {},
   "outputs": [
    {
     "data": {
      "text/html": [
       "<div>\n",
       "<style scoped>\n",
       "    .dataframe tbody tr th:only-of-type {\n",
       "        vertical-align: middle;\n",
       "    }\n",
       "\n",
       "    .dataframe tbody tr th {\n",
       "        vertical-align: top;\n",
       "    }\n",
       "\n",
       "    .dataframe thead th {\n",
       "        text-align: right;\n",
       "    }\n",
       "</style>\n",
       "<table border=\"1\" class=\"dataframe\">\n",
       "  <thead>\n",
       "    <tr style=\"text-align: right;\">\n",
       "      <th></th>\n",
       "      <th>qty_dot_url</th>\n",
       "      <th>qty_hyphen_url</th>\n",
       "      <th>qty_underline_url</th>\n",
       "      <th>qty_slash_url</th>\n",
       "      <th>qty_questionmark_url</th>\n",
       "      <th>qty_equal_url</th>\n",
       "      <th>qty_at_url</th>\n",
       "      <th>qty_and_url</th>\n",
       "      <th>qty_exclamation_url</th>\n",
       "      <th>qty_space_url</th>\n",
       "      <th>...</th>\n",
       "      <th>qty_ip_resolved</th>\n",
       "      <th>qty_nameservers</th>\n",
       "      <th>qty_mx_servers</th>\n",
       "      <th>ttl_hostname</th>\n",
       "      <th>tls_ssl_certificate</th>\n",
       "      <th>qty_redirects</th>\n",
       "      <th>url_google_index</th>\n",
       "      <th>domain_google_index</th>\n",
       "      <th>url_shortened</th>\n",
       "      <th>phishing</th>\n",
       "    </tr>\n",
       "  </thead>\n",
       "  <tbody>\n",
       "    <tr>\n",
       "      <th>29026</th>\n",
       "      <td>4</td>\n",
       "      <td>0</td>\n",
       "      <td>0</td>\n",
       "      <td>0</td>\n",
       "      <td>0</td>\n",
       "      <td>0</td>\n",
       "      <td>0</td>\n",
       "      <td>0</td>\n",
       "      <td>0</td>\n",
       "      <td>0</td>\n",
       "      <td>...</td>\n",
       "      <td>1</td>\n",
       "      <td>3</td>\n",
       "      <td>1</td>\n",
       "      <td>3598</td>\n",
       "      <td>0</td>\n",
       "      <td>-1</td>\n",
       "      <td>0</td>\n",
       "      <td>0</td>\n",
       "      <td>0</td>\n",
       "      <td>0</td>\n",
       "    </tr>\n",
       "    <tr>\n",
       "      <th>52848</th>\n",
       "      <td>2</td>\n",
       "      <td>0</td>\n",
       "      <td>0</td>\n",
       "      <td>0</td>\n",
       "      <td>0</td>\n",
       "      <td>0</td>\n",
       "      <td>0</td>\n",
       "      <td>0</td>\n",
       "      <td>0</td>\n",
       "      <td>0</td>\n",
       "      <td>...</td>\n",
       "      <td>1</td>\n",
       "      <td>2</td>\n",
       "      <td>1</td>\n",
       "      <td>3598</td>\n",
       "      <td>1</td>\n",
       "      <td>0</td>\n",
       "      <td>0</td>\n",
       "      <td>0</td>\n",
       "      <td>0</td>\n",
       "      <td>0</td>\n",
       "    </tr>\n",
       "    <tr>\n",
       "      <th>3821</th>\n",
       "      <td>2</td>\n",
       "      <td>0</td>\n",
       "      <td>0</td>\n",
       "      <td>0</td>\n",
       "      <td>0</td>\n",
       "      <td>0</td>\n",
       "      <td>0</td>\n",
       "      <td>0</td>\n",
       "      <td>0</td>\n",
       "      <td>0</td>\n",
       "      <td>...</td>\n",
       "      <td>2</td>\n",
       "      <td>2</td>\n",
       "      <td>0</td>\n",
       "      <td>299</td>\n",
       "      <td>1</td>\n",
       "      <td>0</td>\n",
       "      <td>0</td>\n",
       "      <td>0</td>\n",
       "      <td>0</td>\n",
       "      <td>0</td>\n",
       "    </tr>\n",
       "    <tr>\n",
       "      <th>74221</th>\n",
       "      <td>4</td>\n",
       "      <td>0</td>\n",
       "      <td>0</td>\n",
       "      <td>0</td>\n",
       "      <td>0</td>\n",
       "      <td>0</td>\n",
       "      <td>0</td>\n",
       "      <td>0</td>\n",
       "      <td>0</td>\n",
       "      <td>0</td>\n",
       "      <td>...</td>\n",
       "      <td>1</td>\n",
       "      <td>3</td>\n",
       "      <td>3</td>\n",
       "      <td>3585</td>\n",
       "      <td>0</td>\n",
       "      <td>0</td>\n",
       "      <td>0</td>\n",
       "      <td>0</td>\n",
       "      <td>0</td>\n",
       "      <td>0</td>\n",
       "    </tr>\n",
       "    <tr>\n",
       "      <th>34258</th>\n",
       "      <td>2</td>\n",
       "      <td>0</td>\n",
       "      <td>0</td>\n",
       "      <td>0</td>\n",
       "      <td>0</td>\n",
       "      <td>0</td>\n",
       "      <td>0</td>\n",
       "      <td>0</td>\n",
       "      <td>0</td>\n",
       "      <td>0</td>\n",
       "      <td>...</td>\n",
       "      <td>-1</td>\n",
       "      <td>8</td>\n",
       "      <td>1</td>\n",
       "      <td>-1</td>\n",
       "      <td>0</td>\n",
       "      <td>-1</td>\n",
       "      <td>0</td>\n",
       "      <td>0</td>\n",
       "      <td>0</td>\n",
       "      <td>0</td>\n",
       "    </tr>\n",
       "  </tbody>\n",
       "</table>\n",
       "<p>5 rows × 112 columns</p>\n",
       "</div>"
      ],
      "text/plain": [
       "       qty_dot_url  qty_hyphen_url  qty_underline_url  qty_slash_url  \\\n",
       "29026            4               0                  0              0   \n",
       "52848            2               0                  0              0   \n",
       "3821             2               0                  0              0   \n",
       "74221            4               0                  0              0   \n",
       "34258            2               0                  0              0   \n",
       "\n",
       "       qty_questionmark_url  qty_equal_url  qty_at_url  qty_and_url  \\\n",
       "29026                     0              0           0            0   \n",
       "52848                     0              0           0            0   \n",
       "3821                      0              0           0            0   \n",
       "74221                     0              0           0            0   \n",
       "34258                     0              0           0            0   \n",
       "\n",
       "       qty_exclamation_url  qty_space_url  ...  qty_ip_resolved  \\\n",
       "29026                    0              0  ...                1   \n",
       "52848                    0              0  ...                1   \n",
       "3821                     0              0  ...                2   \n",
       "74221                    0              0  ...                1   \n",
       "34258                    0              0  ...               -1   \n",
       "\n",
       "       qty_nameservers  qty_mx_servers  ttl_hostname  tls_ssl_certificate  \\\n",
       "29026                3               1          3598                    0   \n",
       "52848                2               1          3598                    1   \n",
       "3821                 2               0           299                    1   \n",
       "74221                3               3          3585                    0   \n",
       "34258                8               1            -1                    0   \n",
       "\n",
       "       qty_redirects  url_google_index  domain_google_index  url_shortened  \\\n",
       "29026             -1                 0                    0              0   \n",
       "52848              0                 0                    0              0   \n",
       "3821               0                 0                    0              0   \n",
       "74221              0                 0                    0              0   \n",
       "34258             -1                 0                    0              0   \n",
       "\n",
       "       phishing  \n",
       "29026         0  \n",
       "52848         0  \n",
       "3821          0  \n",
       "74221         0  \n",
       "34258         0  \n",
       "\n",
       "[5 rows x 112 columns]"
      ]
     },
     "execution_count": 80,
     "metadata": {},
     "output_type": "execute_result"
    }
   ],
   "source": [
    "df2.head()"
   ]
  },
  {
   "cell_type": "markdown",
   "id": "c164fe84",
   "metadata": {},
   "source": [
    "## EDA and Data Check"
   ]
  },
  {
   "cell_type": "code",
   "execution_count": 81,
   "id": "18884c07",
   "metadata": {},
   "outputs": [
    {
     "name": "stdout",
     "output_type": "stream",
     "text": [
      "<class 'pandas.core.frame.DataFrame'>\n",
      "Index: 20000 entries, 29026 to 56070\n",
      "Columns: 112 entries, qty_dot_url to phishing\n",
      "dtypes: float64(1), int64(111)\n",
      "memory usage: 17.2 MB\n"
     ]
    }
   ],
   "source": [
    "#no categorical values\n",
    "df2.info()"
   ]
  },
  {
   "cell_type": "code",
   "execution_count": 82,
   "id": "e28115b7",
   "metadata": {},
   "outputs": [],
   "source": [
    "#no missing values\n",
    "assert df2.isna().agg(sum).sum() == 0"
   ]
  },
  {
   "cell_type": "code",
   "execution_count": 83,
   "id": "37f17a98",
   "metadata": {},
   "outputs": [
    {
     "data": {
      "text/plain": [
       "184"
      ]
     },
     "execution_count": 83,
     "metadata": {},
     "output_type": "execute_result"
    }
   ],
   "source": [
    "#checking for dulplicate rows\n",
    "df2.duplicated().sum()"
   ]
  },
  {
   "cell_type": "code",
   "execution_count": 84,
   "id": "6d04fa6a",
   "metadata": {},
   "outputs": [],
   "source": [
    "#dropping duplicate rows\n",
    "df2 = df2.drop_duplicates(keep=False)"
   ]
  },
  {
   "cell_type": "code",
   "execution_count": 85,
   "id": "76cc6ece",
   "metadata": {},
   "outputs": [],
   "source": [
    "assert df2.duplicated().sum() == 0"
   ]
  },
  {
   "cell_type": "code",
   "execution_count": 86,
   "id": "344e102c",
   "metadata": {},
   "outputs": [
    {
     "data": {
      "text/plain": [
       "(19720, 112)"
      ]
     },
     "execution_count": 86,
     "metadata": {},
     "output_type": "execute_result"
    }
   ],
   "source": [
    "df2.shape"
   ]
  },
  {
   "cell_type": "code",
   "execution_count": 87,
   "id": "b3e98343",
   "metadata": {},
   "outputs": [
    {
     "data": {
      "text/plain": [
       "phishing\n",
       "0    0.651166\n",
       "1    0.348834\n",
       "Name: proportion, dtype: float64"
      ]
     },
     "execution_count": 87,
     "metadata": {},
     "output_type": "execute_result"
    }
   ],
   "source": [
    "#moderately imbalanced dataset\n",
    "df2.phishing.value_counts(normalize=True)"
   ]
  },
  {
   "cell_type": "markdown",
   "id": "579d834c",
   "metadata": {},
   "source": [
    "## Variance in dataset sections"
   ]
  },
  {
   "cell_type": "markdown",
   "id": "91b00409",
   "metadata": {},
   "source": [
    "The entire dataset was devided into the following sections:\n",
    "- Dataset attributes based on URL\n",
    "- Dataset attributes based on Domain URL\n",
    "- Dataset attributes based on URL directory\n",
    "- Dataset attributes based on URL file name\n",
    "- Dataset attributes based on URL parameters\n",
    "- Dataset attributes based on resolving URL and external services\n",
    "\n",
    "So it makes sense to check how these sections might be different"
   ]
  },
  {
   "cell_type": "code",
   "execution_count": 88,
   "id": "1a93a02c",
   "metadata": {},
   "outputs": [],
   "source": [
    "df2_copy = df2.copy()"
   ]
  },
  {
   "cell_type": "code",
   "execution_count": 89,
   "id": "f72f0a20",
   "metadata": {},
   "outputs": [],
   "source": [
    "#Let's create a separate dataframe for each section\n",
    "df_url = df2_copy.iloc[:, :19].assign(email_in_url=df2_copy['email_in_url'])\n",
    "df_domain = df2_copy.iloc[:, 19:40]\n",
    "df_directory = df2_copy.iloc[:, 40:58]\n",
    "df_file = df2_copy.iloc[:, 58:76]\n",
    "df_param = df2_copy.iloc[:, 76:96]\n",
    "df_external = df2_copy.iloc[:, 97:111]"
   ]
  },
  {
   "cell_type": "code",
   "execution_count": 90,
   "id": "b550d84f",
   "metadata": {},
   "outputs": [],
   "source": [
    "#We will exclude the last section from comparision becuase it contains data of a different kind\n",
    "dataframes = [df_url, df_domain, df_directory, df_file, df_param]\n",
    "df_names = ['URL', 'Domain', 'Directory', 'File', 'Parameter']"
   ]
  },
  {
   "cell_type": "code",
   "execution_count": 91,
   "id": "8dc5984a",
   "metadata": {},
   "outputs": [
    {
     "data": {
      "image/png": "[encoded data removed]",
      "text/plain": [
       "<Figure size 1000x600 with 1 Axes>"
      ]
     },
     "metadata": {},
     "output_type": "display_data"
    }
   ],
   "source": [
    "#Let's calculate mean values of variances for all sections and plot the result\n",
    "results = []\n",
    "for df2_copy, name in zip(dataframes, df_names):\n",
    "    result = df2_copy.var().mean()\n",
    "    results.append({'Dataframe': name, 'Variance Mean': result})\n",
    "result_df = pd.DataFrame(results)\n",
    "plt.figure(figsize=(10, 6))\n",
    "sns.barplot(x='Dataframe', y='Variance Mean', data=result_df)\n",
    "plt.title('Mean of Variances for Each Dataframe')\n",
    "plt.xlabel('Dataframe')\n",
    "plt.ylabel('Mean of Variances')\n",
    "plt.show()"
   ]
  },
  {
   "cell_type": "code",
   "execution_count": 9,
   "id": "adbf4a86",
   "metadata": {},
   "outputs": [],
   "source": [
    "#As we can see, the domain section has near zero mean variance which might indicate its less importance"
   ]
  },
  {
   "cell_type": "markdown",
   "id": "669c62ce",
   "metadata": {},
   "source": [
    "## mutual_info_classif"
   ]
  },
  {
   "cell_type": "code",
   "execution_count": 92,
   "id": "1ba9b633",
   "metadata": {},
   "outputs": [],
   "source": [
    "X = df2.drop('phishing', axis=1)\n",
    "y = df2['phishing']"
   ]
  },
  {
   "cell_type": "code",
   "execution_count": 93,
   "id": "11767e84",
   "metadata": {},
   "outputs": [],
   "source": [
    "mi_scores = mutual_info_classif(X, y)"
   ]
  },
  {
   "cell_type": "code",
   "execution_count": 94,
   "id": "44d99dac",
   "metadata": {},
   "outputs": [
    {
     "data": {
      "image/png": "[encoded data removed]",
      "text/plain": [
       "<Figure size 1200x600 with 1 Axes>"
      ]
     },
     "metadata": {},
     "output_type": "display_data"
    }
   ],
   "source": [
    "# Create a bar plot of mutual information scores\n",
    "plt.figure(figsize=(12, 6))\n",
    "plt.bar(range(len(mi_scores)), mi_scores)\n",
    "plt.xlabel('Features')\n",
    "plt.ylabel('Mutual Information Score')\n",
    "plt.title('Mutual Information Scores for Each Feature')\n",
    "#plt.xticks(range(len(mi_scores)), X.columns, rotation=45, ha='right')\n",
    "plt.tight_layout()\n",
    "plt.show()"
   ]
  },
  {
   "cell_type": "code",
   "execution_count": 95,
   "id": "cd387c22",
   "metadata": {},
   "outputs": [],
   "source": [
    "mi_df = pd.DataFrame({'Feature': X.columns, 'MI_Score': mi_scores})\n",
    "# mi_df = mi_df.sort_values('MI_Score', ascending=False).reset_index(drop=True)\n",
    "# print(\"\\nFeatures ranked by Mutual Information Score:\")\n",
    "# mi_df"
   ]
  },
  {
   "cell_type": "code",
   "execution_count": 92,
   "id": "4e6c82f5",
   "metadata": {},
   "outputs": [],
   "source": [
    "# sns.barplot(x='Feature', y='MI_Score', data=mi_df.query('MI_Score > 0.01'))\n",
    "# plt.xticks([])"
   ]
  },
  {
   "cell_type": "code",
   "execution_count": 96,
   "id": "a43b5722",
   "metadata": {},
   "outputs": [],
   "source": [
    "#Let's select features with MI_Score bigger than 0.1\n",
    "selected_features_mi = mi_df.loc[mi_df['MI_Score'] > 0.1, 'Feature'].tolist()\n",
    "index = pd.Index(selected_features_mi)"
   ]
  },
  {
   "cell_type": "code",
   "execution_count": null,
   "id": "62ecfa0b",
   "metadata": {},
   "outputs": [],
   "source": []
  },
  {
   "cell_type": "markdown",
   "id": "39cdeab7",
   "metadata": {},
   "source": [
    "## Multicollinearity"
   ]
  },
  {
   "cell_type": "markdown",
   "id": "d41a3a32",
   "metadata": {},
   "source": [
    "**The dataset has a high degree of multicollinearity, however, we will not do anything about it**"
   ]
  },
  {
   "cell_type": "code",
   "execution_count": 29,
   "id": "a6d956b3",
   "metadata": {},
   "outputs": [],
   "source": [
    "corr_matrix = df2.corr()"
   ]
  },
  {
   "cell_type": "code",
   "execution_count": 30,
   "id": "f6059e43",
   "metadata": {},
   "outputs": [],
   "source": [
    "threshold = 0.8"
   ]
  },
  {
   "cell_type": "code",
   "execution_count": 31,
   "id": "21aada45",
   "metadata": {},
   "outputs": [],
   "source": [
    "#Create a mask to ignore self-correlations (diagonal) and lower triangle\n",
    "mask = np.triu(np.ones(corr_matrix.shape), k=1).astype(bool)"
   ]
  },
  {
   "cell_type": "code",
   "execution_count": 32,
   "id": "b602b5bb",
   "metadata": {},
   "outputs": [],
   "source": [
    "#Extract pairs of features with correlation greater than the threshold\n",
    "high_corr_pairs = [(corr_matrix.index[i], corr_matrix.columns[j], corr_matrix.iloc[i, j])\n",
    "                   for i, j in zip(*np.where((np.abs(corr_matrix) > threshold) & mask))]"
   ]
  },
  {
   "cell_type": "code",
   "execution_count": 33,
   "id": "0d1cac1d",
   "metadata": {},
   "outputs": [],
   "source": [
    "high_corr_df = pd.DataFrame(high_corr_pairs, columns=['Feature 1', 'Feature 2', 'Correlation'])"
   ]
  },
  {
   "cell_type": "code",
   "execution_count": 34,
   "id": "8abb790d",
   "metadata": {},
   "outputs": [
    {
     "name": "stdout",
     "output_type": "stream",
     "text": [
      "<class 'pandas.core.frame.DataFrame'>\n",
      "RangeIndex: 495 entries, 0 to 494\n",
      "Data columns (total 3 columns):\n",
      " #   Column       Non-Null Count  Dtype  \n",
      "---  ------       --------------  -----  \n",
      " 0   Feature 1    495 non-null    object \n",
      " 1   Feature 2    495 non-null    object \n",
      " 2   Correlation  495 non-null    float64\n",
      "dtypes: float64(1), object(2)\n",
      "memory usage: 11.7+ KB\n"
     ]
    }
   ],
   "source": [
    "high_corr_df.info()"
   ]
  },
  {
   "cell_type": "markdown",
   "id": "09e45d38",
   "metadata": {},
   "source": [
    "## Data prep and removing constant features"
   ]
  },
  {
   "cell_type": "code",
   "execution_count": 97,
   "id": "125b74ab",
   "metadata": {},
   "outputs": [],
   "source": [
    "X_train, X_test, y_train, y_test = train_test_split(\n",
    "    df2.drop(labels=['phishing'], axis=1),  \n",
    "    df2['phishing'], \n",
    "    test_size=0.2,\n",
    "    random_state=0)"
   ]
  },
  {
   "cell_type": "code",
   "execution_count": 98,
   "id": "58fef287",
   "metadata": {},
   "outputs": [
    {
     "data": {
      "text/plain": [
       "(15776, 111)"
      ]
     },
     "execution_count": 98,
     "metadata": {},
     "output_type": "execute_result"
    }
   ],
   "source": [
    "X_train.shape"
   ]
  },
  {
   "cell_type": "code",
   "execution_count": 99,
   "id": "49678661",
   "metadata": {},
   "outputs": [],
   "source": [
    "sel = VarianceThreshold(threshold=0)"
   ]
  },
  {
   "cell_type": "code",
   "execution_count": 100,
   "id": "47fa4878",
   "metadata": {},
   "outputs": [
    {
     "data": {
      "text/html": [
       "<style>#sk-container-id-7 {color: black;}#sk-container-id-7 pre{padding: 0;}#sk-container-id-7 div.sk-toggleable {background-color: white;}#sk-container-id-7 label.sk-toggleable__label {cursor: pointer;display: block;width: 100%;margin-bottom: 0;padding: 0.3em;box-sizing: border-box;text-align: center;}#sk-container-id-7 label.sk-toggleable__label-arrow:before {content: \"▸\";float: left;margin-right: 0.25em;color: #696969;}#sk-container-id-7 label.sk-toggleable__label-arrow:hover:before {color: black;}#sk-container-id-7 div.sk-estimator:hover label.sk-toggleable__label-arrow:before {color: black;}#sk-container-id-7 div.sk-toggleable__content {max-height: 0;max-width: 0;overflow: hidden;text-align: left;background-color: #f0f8ff;}#sk-container-id-7 div.sk-toggleable__content pre {margin: 0.2em;color: black;border-radius: 0.25em;background-color: #f0f8ff;}#sk-container-id-7 input.sk-toggleable__control:checked~div.sk-toggleable__content {max-height: 200px;max-width: 100%;overflow: auto;}#sk-container-id-7 input.sk-toggleable__control:checked~label.sk-toggleable__label-arrow:before {content: \"▾\";}#sk-container-id-7 div.sk-estimator input.sk-toggleable__control:checked~label.sk-toggleable__label {background-color: #d4ebff;}#sk-container-id-7 div.sk-label input.sk-toggleable__control:checked~label.sk-toggleable__label {background-color: #d4ebff;}#sk-container-id-7 input.sk-hidden--visually {border: 0;clip: rect(1px 1px 1px 1px);clip: rect(1px, 1px, 1px, 1px);height: 1px;margin: -1px;overflow: hidden;padding: 0;position: absolute;width: 1px;}#sk-container-id-7 div.sk-estimator {font-family: monospace;background-color: #f0f8ff;border: 1px dotted black;border-radius: 0.25em;box-sizing: border-box;margin-bottom: 0.5em;}#sk-container-id-7 div.sk-estimator:hover {background-color: #d4ebff;}#sk-container-id-7 div.sk-parallel-item::after {content: \"\";width: 100%;border-bottom: 1px solid gray;flex-grow: 1;}#sk-container-id-7 div.sk-label:hover label.sk-toggleable__label {background-color: #d4ebff;}#sk-container-id-7 div.sk-serial::before {content: \"\";position: absolute;border-left: 1px solid gray;box-sizing: border-box;top: 0;bottom: 0;left: 50%;z-index: 0;}#sk-container-id-7 div.sk-serial {display: flex;flex-direction: column;align-items: center;background-color: white;padding-right: 0.2em;padding-left: 0.2em;position: relative;}#sk-container-id-7 div.sk-item {position: relative;z-index: 1;}#sk-container-id-7 div.sk-parallel {display: flex;align-items: stretch;justify-content: center;background-color: white;position: relative;}#sk-container-id-7 div.sk-item::before, #sk-container-id-7 div.sk-parallel-item::before {content: \"\";position: absolute;border-left: 1px solid gray;box-sizing: border-box;top: 0;bottom: 0;left: 50%;z-index: -1;}#sk-container-id-7 div.sk-parallel-item {display: flex;flex-direction: column;z-index: 1;position: relative;background-color: white;}#sk-container-id-7 div.sk-parallel-item:first-child::after {align-self: flex-end;width: 50%;}#sk-container-id-7 div.sk-parallel-item:last-child::after {align-self: flex-start;width: 50%;}#sk-container-id-7 div.sk-parallel-item:only-child::after {width: 0;}#sk-container-id-7 div.sk-dashed-wrapped {border: 1px dashed gray;margin: 0 0.4em 0.5em 0.4em;box-sizing: border-box;padding-bottom: 0.4em;background-color: white;}#sk-container-id-7 div.sk-label label {font-family: monospace;font-weight: bold;display: inline-block;line-height: 1.2em;}#sk-container-id-7 div.sk-label-container {text-align: center;}#sk-container-id-7 div.sk-container {/* jupyter's `normalize.less` sets `[hidden] { display: none; }` but bootstrap.min.css set `[hidden] { display: none !important; }` so we also need the `!important` here to be able to override the default hidden behavior on the sphinx rendered scikit-learn.org. See: https://github.com/scikit-learn/scikit-learn/issues/21755 */display: inline-block !important;position: relative;}#sk-container-id-7 div.sk-text-repr-fallback {display: none;}</style><div id=\"sk-container-id-7\" class=\"sk-top-container\"><div class=\"sk-text-repr-fallback\"><pre>VarianceThreshold(threshold=0)</pre><b>In a Jupyter environment, please rerun this cell to show the HTML representation or trust the notebook. <br />On GitHub, the HTML representation is unable to render, please try loading this page with nbviewer.org.</b></div><div class=\"sk-container\" hidden><div class=\"sk-item\"><div class=\"sk-estimator sk-toggleable\"><input class=\"sk-toggleable__control sk-hidden--visually\" id=\"sk-estimator-id-7\" type=\"checkbox\" checked><label for=\"sk-estimator-id-7\" class=\"sk-toggleable__label sk-toggleable__label-arrow\">VarianceThreshold</label><div class=\"sk-toggleable__content\"><pre>VarianceThreshold(threshold=0)</pre></div></div></div></div></div>"
      ],
      "text/plain": [
       "VarianceThreshold(threshold=0)"
      ]
     },
     "execution_count": 100,
     "metadata": {},
     "output_type": "execute_result"
    }
   ],
   "source": [
    "sel.fit(X_train)  # fit finds the features with zero variance"
   ]
  },
  {
   "cell_type": "code",
   "execution_count": 101,
   "id": "d5658679",
   "metadata": {},
   "outputs": [
    {
     "data": {
      "text/plain": [
       "14"
      ]
     },
     "execution_count": 101,
     "metadata": {},
     "output_type": "execute_result"
    }
   ],
   "source": [
    "constant = X_train.columns[~sel.get_support()]\n",
    "len(constant)"
   ]
  },
  {
   "cell_type": "code",
   "execution_count": 102,
   "id": "47659182",
   "metadata": {},
   "outputs": [],
   "source": [
    "# capture non-constant feature names\n",
    "feat_names = X_train.columns[sel.get_support()]"
   ]
  },
  {
   "cell_type": "code",
   "execution_count": 103,
   "id": "c5f96474",
   "metadata": {},
   "outputs": [
    {
     "data": {
      "text/plain": [
       "((15776, 97), (3944, 97))"
      ]
     },
     "execution_count": 103,
     "metadata": {},
     "output_type": "execute_result"
    }
   ],
   "source": [
    "X_train = sel.transform(X_train)\n",
    "X_test = sel.transform(X_test)\n",
    "\n",
    "X_train.shape, X_test.shape"
   ]
  },
  {
   "cell_type": "code",
   "execution_count": 104,
   "id": "8b2976a5",
   "metadata": {},
   "outputs": [],
   "source": [
    "#standard scaling\n",
    "scaler = StandardScaler()\n",
    "\n",
    "scaler.fit(X_train)\n",
    "\n",
    "X_train_scaled = scaler.transform(X_train)\n",
    "X_test_scaled = scaler.transform(X_test)"
   ]
  },
  {
   "cell_type": "markdown",
   "id": "a42a3db3",
   "metadata": {},
   "source": [
    "## PCA"
   ]
  },
  {
   "cell_type": "code",
   "execution_count": 105,
   "id": "6a680625",
   "metadata": {},
   "outputs": [],
   "source": [
    "# Apply PCA\n",
    "pca = PCA(n_components=0.95)  # Keep enough components to explain 95% of the variance\n",
    "X_train_pca = pca.fit_transform(X_train_scaled)\n",
    "X_test_pca = pca.transform(X_test_scaled)"
   ]
  },
  {
   "cell_type": "code",
   "execution_count": 106,
   "id": "fae934cb",
   "metadata": {},
   "outputs": [
    {
     "name": "stdout",
     "output_type": "stream",
     "text": [
      "Number of components selected: 36\n"
     ]
    }
   ],
   "source": [
    "# Print the number of components selected\n",
    "print(f\"Number of components selected: {pca.n_components_}\")"
   ]
  },
  {
   "cell_type": "code",
   "execution_count": null,
   "id": "c6a20a83",
   "metadata": {},
   "outputs": [],
   "source": []
  },
  {
   "cell_type": "code",
   "execution_count": 107,
   "id": "e8977a37",
   "metadata": {},
   "outputs": [
    {
     "data": {
      "text/plain": [
       "Index(['qty_slash_url', 'length_url', 'qty_dot_directory',\n",
       "       'qty_hyphen_directory', 'qty_underline_directory',\n",
       "       'qty_slash_directory', 'qty_questionmark_directory',\n",
       "       'qty_equal_directory', 'qty_at_directory', 'qty_and_directory',\n",
       "       'qty_exclamation_directory', 'qty_space_directory',\n",
       "       'qty_tilde_directory', 'qty_comma_directory', 'qty_plus_directory',\n",
       "       'qty_asterisk_directory', 'qty_hashtag_directory',\n",
       "       'qty_dollar_directory', 'qty_percent_directory', 'directory_length',\n",
       "       'qty_dot_file', 'qty_hyphen_file', 'qty_underline_file',\n",
       "       'qty_slash_file', 'qty_questionmark_file', 'qty_equal_file',\n",
       "       'qty_at_file', 'qty_and_file', 'qty_exclamation_file', 'qty_space_file',\n",
       "       'qty_tilde_file', 'qty_comma_file', 'qty_plus_file',\n",
       "       'qty_asterisk_file', 'qty_hashtag_file', 'qty_dollar_file',\n",
       "       'qty_percent_file', 'file_length', 'asn_ip', 'time_domain_activation'],\n",
       "      dtype='object')"
      ]
     },
     "execution_count": 107,
     "metadata": {},
     "output_type": "execute_result"
    }
   ],
   "source": [
    "index"
   ]
  },
  {
   "cell_type": "markdown",
   "id": "26cb9012",
   "metadata": {},
   "source": [
    "## About accuracy metric"
   ]
  },
  {
   "cell_type": "markdown",
   "id": "067718ef",
   "metadata": {},
   "source": [
    "For this dataset, a false positive will be observed when a model labels a normal site as malicious. A false negative will be observed when a model labels a malicious site. False negatives are more dangerous as a user will trust a malicious site. Therefore, we will be using recall score."
   ]
  },
  {
   "cell_type": "markdown",
   "id": "cec3efc6",
   "metadata": {},
   "source": [
    "## Aplying models"
   ]
  },
  {
   "cell_type": "markdown",
   "id": "3b6d7726",
   "metadata": {},
   "source": [
    "**Initializing models**"
   ]
  },
  {
   "cell_type": "code",
   "execution_count": 108,
   "id": "22a88978",
   "metadata": {},
   "outputs": [],
   "source": [
    "dummy_clf = DummyClassifier(strategy=\"prior\")\n",
    "log_reg = LogisticRegression(max_iter=10000)\n",
    "knn = KNeighborsClassifier()\n",
    "decision_tree = DecisionTreeClassifier()\n",
    "svc = SVC()\n",
    "rf = RandomForestClassifier(n_estimators=300, random_state=0)\n",
    "xg = xgb.XGBClassifier(seed=123)"
   ]
  },
  {
   "cell_type": "markdown",
   "id": "599dca33",
   "metadata": {},
   "source": [
    "**Function to run and evaluate models**"
   ]
  },
  {
   "cell_type": "code",
   "execution_count": 109,
   "id": "8fc50bd6",
   "metadata": {},
   "outputs": [],
   "source": [
    "def model(model, X_train, X_test):\n",
    "    \n",
    "    model.fit(X_train, y_train)\n",
    "    \n",
    "    metrics = {\n",
    "        \"recall\": recall_score,\n",
    "        \"auc_roc\": roc_auc_score\n",
    "    }\n",
    "    \n",
    "    scores = {}\n",
    "    for name, metric in metrics.items():\n",
    "        scores[f\"{name}_test\"] = metric(y_test, model.predict(X_test))\n",
    "        scores[f\"{name}_train\"] = metric(y_train, model.predict(X_train))\n",
    "    \n",
    "    for key, score in scores.items():\n",
    "        print(f\"{key.replace('_', ' ').title()}: {round(score, 3)}\")\n",
    "    \n",
    "    #return scores"
   ]
  },
  {
   "cell_type": "markdown",
   "id": "e4c92d8d",
   "metadata": {},
   "source": [
    "**Dummy classifier**"
   ]
  },
  {
   "cell_type": "code",
   "execution_count": 110,
   "id": "c9587e3e",
   "metadata": {},
   "outputs": [
    {
     "name": "stdout",
     "output_type": "stream",
     "text": [
      "Recall Test: 0.0\n",
      "Recall Train: 0.0\n",
      "Auc Roc Test: 0.5\n",
      "Auc Roc Train: 0.5\n"
     ]
    }
   ],
   "source": [
    "model(dummy_clf, X_train_scaled, X_test_scaled)"
   ]
  },
  {
   "cell_type": "code",
   "execution_count": 205,
   "id": "1a64c24a",
   "metadata": {},
   "outputs": [],
   "source": [
    "#0.5 indicates random guessing"
   ]
  },
  {
   "cell_type": "code",
   "execution_count": 111,
   "id": "4755adf9",
   "metadata": {},
   "outputs": [],
   "source": [
    "y_pred_test = dummy_clf.predict(X_test_scaled)"
   ]
  },
  {
   "cell_type": "code",
   "execution_count": 112,
   "id": "31b57b05",
   "metadata": {},
   "outputs": [
    {
     "data": {
      "text/plain": [
       "array([0])"
      ]
     },
     "execution_count": 112,
     "metadata": {},
     "output_type": "execute_result"
    }
   ],
   "source": [
    "#the dummy classifer predicts no instance of 1 class, therefore we can't really calculate false negative rate or \n",
    "#recall score\n",
    "np.unique(y_pred_test)"
   ]
  },
  {
   "cell_type": "markdown",
   "id": "af44938b",
   "metadata": {},
   "source": [
    "**Logistic regression**"
   ]
  },
  {
   "cell_type": "code",
   "execution_count": 113,
   "id": "2ff2e474",
   "metadata": {},
   "outputs": [
    {
     "name": "stdout",
     "output_type": "stream",
     "text": [
      "Recall Test: 0.913\n",
      "Recall Train: 0.916\n",
      "Auc Roc Test: 0.925\n",
      "Auc Roc Train: 0.927\n"
     ]
    }
   ],
   "source": [
    "model(log_reg, X_train_scaled, X_test_scaled)"
   ]
  },
  {
   "cell_type": "markdown",
   "id": "9387affd",
   "metadata": {},
   "source": [
    "**KNN**"
   ]
  },
  {
   "cell_type": "code",
   "execution_count": 114,
   "id": "dc3e4b6e",
   "metadata": {},
   "outputs": [
    {
     "name": "stdout",
     "output_type": "stream",
     "text": [
      "Recall Test: 0.927\n",
      "Recall Train: 0.937\n",
      "Auc Roc Test: 0.938\n",
      "Auc Roc Train: 0.951\n"
     ]
    }
   ],
   "source": [
    "model(knn, X_train_scaled, X_test_scaled)"
   ]
  },
  {
   "cell_type": "markdown",
   "id": "2199b61e",
   "metadata": {},
   "source": [
    "**Decision Tree**"
   ]
  },
  {
   "cell_type": "code",
   "execution_count": 115,
   "id": "b433ed1b",
   "metadata": {},
   "outputs": [
    {
     "name": "stdout",
     "output_type": "stream",
     "text": [
      "Recall Test: 0.913\n",
      "Recall Train: 1.0\n",
      "Auc Roc Test: 0.931\n",
      "Auc Roc Train: 1.0\n"
     ]
    }
   ],
   "source": [
    "model(decision_tree, X_train_scaled, X_test_scaled)"
   ]
  },
  {
   "cell_type": "markdown",
   "id": "caf30e68",
   "metadata": {},
   "source": [
    "**SVM**"
   ]
  },
  {
   "cell_type": "code",
   "execution_count": 116,
   "id": "5d69c5a3",
   "metadata": {},
   "outputs": [
    {
     "name": "stdout",
     "output_type": "stream",
     "text": [
      "Recall Test: 0.934\n",
      "Recall Train: 0.934\n",
      "Auc Roc Test: 0.938\n",
      "Auc Roc Train: 0.94\n"
     ]
    }
   ],
   "source": [
    "model(svc, X_train_scaled, X_test_scaled)"
   ]
  },
  {
   "cell_type": "markdown",
   "id": "dcfd0e6e",
   "metadata": {},
   "source": [
    "**Random forrest**"
   ]
  },
  {
   "cell_type": "code",
   "execution_count": 117,
   "id": "d7bd313d",
   "metadata": {},
   "outputs": [
    {
     "name": "stdout",
     "output_type": "stream",
     "text": [
      "Recall Test: 0.955\n",
      "Recall Train: 1.0\n",
      "Auc Roc Test: 0.961\n",
      "Auc Roc Train: 1.0\n"
     ]
    }
   ],
   "source": [
    "model(rf, X_train_scaled, X_test_scaled)"
   ]
  },
  {
   "cell_type": "markdown",
   "id": "6406f066",
   "metadata": {},
   "source": [
    "**Recursive feature elimination with Random forrest**"
   ]
  },
  {
   "cell_type": "code",
   "execution_count": 118,
   "id": "cdefb650",
   "metadata": {},
   "outputs": [],
   "source": [
    "#restoring dataframe\n",
    "X_train_scaled = pd.DataFrame(X_train, columns=feat_names)\n",
    "X_test_scaled = pd.DataFrame(X_test, columns=feat_names)"
   ]
  },
  {
   "cell_type": "code",
   "execution_count": 119,
   "id": "0c8674ae",
   "metadata": {},
   "outputs": [],
   "source": [
    "X_train_selected2 = X_train_scaled[index]\n",
    "X_test_selected2 = X_test_scaled[index]"
   ]
  },
  {
   "cell_type": "code",
   "execution_count": 120,
   "id": "fcc2880e",
   "metadata": {},
   "outputs": [],
   "source": [
    "recall_scores = {}"
   ]
  },
  {
   "cell_type": "code",
   "execution_count": 73,
   "id": "60d73bac",
   "metadata": {},
   "outputs": [
    {
     "name": "stdout",
     "output_type": "stream",
     "text": [
      "Selecting 1 features\n",
      "Recall score for 1 features: 0.8772058823529412\n",
      "Selecting 2 features\n",
      "Recall score for 2 features: 0.8580882352941176\n",
      "Selecting 3 features\n",
      "Recall score for 3 features: 0.9330882352941177\n",
      "Selecting 4 features\n",
      "Recall score for 4 features: 0.9375\n",
      "Selecting 5 features\n",
      "Recall score for 5 features: 0.9213235294117647\n",
      "Selecting 6 features\n",
      "Recall score for 6 features: 0.9220588235294118\n",
      "Selecting 7 features\n",
      "Recall score for 7 features: 0.9264705882352942\n",
      "Selecting 8 features\n",
      "Recall score for 8 features: 0.924264705882353\n",
      "Selecting 9 features\n",
      "Recall score for 9 features: 0.9316176470588236\n",
      "Selecting 10 features\n",
      "Recall score for 10 features: 0.9286764705882353\n",
      "Selecting 11 features\n",
      "Recall score for 11 features: 0.9433823529411764\n",
      "Selecting 12 features\n",
      "Recall score for 12 features: 0.9411764705882353\n",
      "Selecting 13 features\n",
      "Recall score for 13 features: 0.9404411764705882\n",
      "Selecting 14 features\n",
      "Recall score for 14 features: 0.9419117647058823\n",
      "Selecting 15 features\n",
      "Recall score for 15 features: 0.9433823529411764\n",
      "Selecting 16 features\n",
      "Recall score for 16 features: 0.9411764705882353\n",
      "Selecting 17 features\n",
      "Recall score for 17 features: 0.9404411764705882\n",
      "Selecting 18 features\n",
      "Recall score for 18 features: 0.9419117647058823\n",
      "Selecting 19 features\n",
      "Recall score for 19 features: 0.9426470588235294\n",
      "Selecting 20 features\n",
      "Recall score for 20 features: 0.9448529411764706\n",
      "Selecting 21 features\n",
      "Recall score for 21 features: 0.9433823529411764\n",
      "Selecting 22 features\n",
      "Recall score for 22 features: 0.9433823529411764\n",
      "Selecting 23 features\n",
      "Recall score for 23 features: 0.9448529411764706\n",
      "Selecting 24 features\n",
      "Recall score for 24 features: 0.950735294117647\n",
      "Selecting 25 features\n",
      "Recall score for 25 features: 0.9536764705882353\n",
      "Selecting 26 features\n",
      "Recall score for 26 features: 0.95\n",
      "Selecting 27 features\n",
      "Recall score for 27 features: 0.9536764705882353\n",
      "Selecting 28 features\n",
      "Recall score for 28 features: 0.950735294117647\n",
      "Selecting 29 features\n",
      "Recall score for 29 features: 0.9514705882352941\n",
      "Selecting 30 features\n",
      "Recall score for 30 features: 0.9536764705882353\n",
      "Selecting 31 features\n",
      "Recall score for 31 features: 0.9514705882352941\n",
      "Selecting 32 features\n",
      "Recall score for 32 features: 0.9536764705882353\n",
      "Selecting 33 features\n",
      "Recall score for 33 features: 0.9536764705882353\n",
      "Selecting 34 features\n",
      "Recall score for 34 features: 0.9529411764705882\n",
      "Selecting 35 features\n",
      "Recall score for 35 features: 0.9544117647058824\n",
      "Selecting 36 features\n",
      "Recall score for 36 features: 0.9536764705882353\n",
      "Selecting 37 features\n",
      "Recall score for 37 features: 0.9573529411764706\n",
      "Selecting 38 features\n",
      "Recall score for 38 features: 0.9551470588235295\n",
      "Selecting 39 features\n",
      "Recall score for 39 features: 0.9544117647058824\n",
      "Selecting 40 features\n",
      "Recall score for 40 features: 0.9566176470588236\n",
      "Selecting 41 features\n",
      "Recall score for 41 features: 0.9551470588235295\n",
      "Selecting 42 features\n",
      "Recall score for 42 features: 0.9536764705882353\n",
      "Selecting 43 features\n",
      "Recall score for 43 features: 0.9573529411764706\n",
      "Selecting 44 features\n",
      "Recall score for 44 features: 0.9529411764705882\n",
      "Selecting 45 features\n",
      "Recall score for 45 features: 0.9566176470588236\n",
      "Selecting 46 features\n",
      "Recall score for 46 features: 0.9580882352941177\n",
      "Selecting 47 features\n",
      "Recall score for 47 features: 0.9544117647058824\n",
      "Selecting 48 features\n",
      "Recall score for 48 features: 0.9536764705882353\n",
      "Selecting 49 features\n",
      "Recall score for 49 features: 0.9558823529411765\n",
      "Selecting 50 features\n",
      "Recall score for 50 features: 0.9551470588235295\n",
      "Selecting 51 features\n",
      "Recall score for 51 features: 0.9566176470588236\n",
      "Selecting 52 features\n",
      "Recall score for 52 features: 0.9551470588235295\n",
      "Selecting 53 features\n",
      "Recall score for 53 features: 0.9558823529411765\n",
      "Selecting 54 features\n",
      "Recall score for 54 features: 0.9551470588235295\n",
      "Selecting 55 features\n",
      "Recall score for 55 features: 0.9536764705882353\n",
      "Selecting 56 features\n",
      "Recall score for 56 features: 0.9558823529411765\n",
      "Selecting 57 features\n",
      "Recall score for 57 features: 0.9580882352941177\n",
      "Selecting 58 features\n",
      "Recall score for 58 features: 0.9536764705882353\n",
      "Selecting 59 features\n",
      "Recall score for 59 features: 0.9566176470588236\n",
      "Selecting 60 features\n",
      "Recall score for 60 features: 0.9551470588235295\n",
      "Selecting 61 features\n",
      "Recall score for 61 features: 0.9573529411764706\n",
      "Selecting 62 features\n",
      "Recall score for 62 features: 0.9551470588235295\n",
      "Selecting 63 features\n",
      "Recall score for 63 features: 0.9551470588235295\n",
      "Selecting 64 features\n",
      "Recall score for 64 features: 0.9573529411764706\n",
      "Selecting 65 features\n",
      "Recall score for 65 features: 0.9544117647058824\n",
      "Selecting 66 features\n",
      "Recall score for 66 features: 0.9544117647058824\n",
      "Selecting 67 features\n",
      "Recall score for 67 features: 0.9536764705882353\n",
      "Selecting 68 features\n",
      "Recall score for 68 features: 0.9544117647058824\n",
      "Selecting 69 features\n",
      "Recall score for 69 features: 0.9544117647058824\n",
      "Selecting 70 features\n",
      "Recall score for 70 features: 0.9544117647058824\n",
      "Selecting 71 features\n",
      "Recall score for 71 features: 0.9544117647058824\n",
      "Selecting 72 features\n",
      "Recall score for 72 features: 0.9536764705882353\n",
      "Selecting 73 features\n",
      "Recall score for 73 features: 0.9558823529411765\n",
      "Selecting 74 features\n",
      "Recall score for 74 features: 0.9573529411764706\n",
      "Selecting 75 features\n",
      "Recall score for 75 features: 0.9544117647058824\n",
      "Selecting 76 features\n",
      "Recall score for 76 features: 0.9566176470588236\n",
      "Selecting 77 features\n",
      "Recall score for 77 features: 0.9544117647058824\n",
      "Selecting 78 features\n",
      "Recall score for 78 features: 0.9544117647058824\n",
      "Selecting 79 features\n",
      "Recall score for 79 features: 0.9551470588235295\n",
      "Selecting 80 features\n",
      "Recall score for 80 features: 0.9573529411764706\n",
      "Selecting 81 features\n",
      "Recall score for 81 features: 0.9551470588235295\n",
      "Selecting 82 features\n",
      "Recall score for 82 features: 0.9558823529411765\n",
      "Selecting 83 features\n",
      "Recall score for 83 features: 0.9544117647058824\n",
      "Selecting 84 features\n",
      "Recall score for 84 features: 0.9558823529411765\n",
      "Selecting 85 features\n",
      "Recall score for 85 features: 0.9558823529411765\n",
      "Selecting 86 features\n",
      "Recall score for 86 features: 0.9529411764705882\n",
      "Selecting 87 features\n",
      "Recall score for 87 features: 0.9544117647058824\n",
      "Selecting 88 features\n",
      "Recall score for 88 features: 0.9551470588235295\n",
      "Selecting 89 features\n",
      "Recall score for 89 features: 0.9551470588235295\n",
      "Selecting 90 features\n",
      "Recall score for 90 features: 0.9544117647058824\n",
      "Selecting 91 features\n",
      "Recall score for 91 features: 0.9551470588235295\n",
      "Selecting 92 features\n",
      "Recall score for 92 features: 0.9544117647058824\n",
      "Selecting 93 features\n",
      "Recall score for 93 features: 0.9558823529411765\n",
      "Selecting 94 features\n",
      "Recall score for 94 features: 0.9544117647058824\n",
      "Selecting 95 features\n",
      "Recall score for 95 features: 0.9558823529411765\n",
      "Selecting 96 features\n",
      "Recall score for 96 features: 0.9566176470588236\n",
      "Selecting 97 features\n",
      "Recall score for 97 features: 0.9558823529411765\n"
     ]
    }
   ],
   "source": [
    "for n_features in range(1, X_train_scaled.shape[1] + 1):\n",
    "    print(f\"Selecting {n_features} features\")\n",
    "    \n",
    "    # RFE with the model\n",
    "    sel_ = RFE(RandomForestClassifier(n_estimators=300, random_state=0), n_features_to_select=n_features)\n",
    "    sel_.fit(X_train_scaled, y_train)\n",
    "    \n",
    "    # Select the features\n",
    "    selected_feat = X_train_scaled.columns[(sel_.get_support())]\n",
    "    X_train_selected = X_train_scaled[selected_feat]\n",
    "    X_test_selected = X_test_scaled[selected_feat]\n",
    "    \n",
    "    # Train the Random Forest model\n",
    "    rf1 = RandomForestClassifier(n_estimators=300, random_state=0)\n",
    "    rf1.fit(X_train_selected, y_train)\n",
    "    \n",
    "    # Predict and calculate recall score\n",
    "    y_pred_test_rf_sel = rf1.predict(X_test_selected)\n",
    "    recall_test_rf_selected = recall_score(y_test, y_pred_test_rf_sel)\n",
    "    \n",
    "    # Store the recall score and number of features in the dictionary\n",
    "    recall_scores[n_features] = recall_test_rf_selected\n",
    "    print(f\"Recall score for {n_features} features: {recall_test_rf_selected}\")"
   ]
  },
  {
   "cell_type": "code",
   "execution_count": 74,
   "id": "211c0e5b",
   "metadata": {},
   "outputs": [
    {
     "data": {
      "text/plain": [
       "<Axes: >"
      ]
     },
     "execution_count": 74,
     "metadata": {},
     "output_type": "execute_result"
    },
    {
     "data": {
      "image/png": "[encoded data removed]",
      "text/plain": [
       "<Figure size 640x480 with 1 Axes>"
      ]
     },
     "metadata": {},
     "output_type": "display_data"
    }
   ],
   "source": [
    "sns.lineplot(recall_scores)"
   ]
  },
  {
   "cell_type": "code",
   "execution_count": 75,
   "id": "2e5626f6",
   "metadata": {},
   "outputs": [
    {
     "data": {
      "text/plain": [
       "(46, 0.9580882352941177)"
      ]
     },
     "execution_count": 75,
     "metadata": {},
     "output_type": "execute_result"
    }
   ],
   "source": [
    "sorted_dict = dict(sorted(recall_scores.items(), key=lambda item: item[1], reverse=True))\n",
    "next(iter(sorted_dict.items()))"
   ]
  },
  {
   "cell_type": "code",
   "execution_count": 121,
   "id": "5c2d73cd",
   "metadata": {},
   "outputs": [],
   "source": [
    "rfe1 = RFE(RandomForestClassifier(n_estimators=300, random_state=0), n_features_to_select=46)"
   ]
  },
  {
   "cell_type": "code",
   "execution_count": 122,
   "id": "831b3504",
   "metadata": {},
   "outputs": [
    {
     "data": {
      "text/html": [
       "<style>#sk-container-id-8 {color: black;}#sk-container-id-8 pre{padding: 0;}#sk-container-id-8 div.sk-toggleable {background-color: white;}#sk-container-id-8 label.sk-toggleable__label {cursor: pointer;display: block;width: 100%;margin-bottom: 0;padding: 0.3em;box-sizing: border-box;text-align: center;}#sk-container-id-8 label.sk-toggleable__label-arrow:before {content: \"▸\";float: left;margin-right: 0.25em;color: #696969;}#sk-container-id-8 label.sk-toggleable__label-arrow:hover:before {color: black;}#sk-container-id-8 div.sk-estimator:hover label.sk-toggleable__label-arrow:before {color: black;}#sk-container-id-8 div.sk-toggleable__content {max-height: 0;max-width: 0;overflow: hidden;text-align: left;background-color: #f0f8ff;}#sk-container-id-8 div.sk-toggleable__content pre {margin: 0.2em;color: black;border-radius: 0.25em;background-color: #f0f8ff;}#sk-container-id-8 input.sk-toggleable__control:checked~div.sk-toggleable__content {max-height: 200px;max-width: 100%;overflow: auto;}#sk-container-id-8 input.sk-toggleable__control:checked~label.sk-toggleable__label-arrow:before {content: \"▾\";}#sk-container-id-8 div.sk-estimator input.sk-toggleable__control:checked~label.sk-toggleable__label {background-color: #d4ebff;}#sk-container-id-8 div.sk-label input.sk-toggleable__control:checked~label.sk-toggleable__label {background-color: #d4ebff;}#sk-container-id-8 input.sk-hidden--visually {border: 0;clip: rect(1px 1px 1px 1px);clip: rect(1px, 1px, 1px, 1px);height: 1px;margin: -1px;overflow: hidden;padding: 0;position: absolute;width: 1px;}#sk-container-id-8 div.sk-estimator {font-family: monospace;background-color: #f0f8ff;border: 1px dotted black;border-radius: 0.25em;box-sizing: border-box;margin-bottom: 0.5em;}#sk-container-id-8 div.sk-estimator:hover {background-color: #d4ebff;}#sk-container-id-8 div.sk-parallel-item::after {content: \"\";width: 100%;border-bottom: 1px solid gray;flex-grow: 1;}#sk-container-id-8 div.sk-label:hover label.sk-toggleable__label {background-color: #d4ebff;}#sk-container-id-8 div.sk-serial::before {content: \"\";position: absolute;border-left: 1px solid gray;box-sizing: border-box;top: 0;bottom: 0;left: 50%;z-index: 0;}#sk-container-id-8 div.sk-serial {display: flex;flex-direction: column;align-items: center;background-color: white;padding-right: 0.2em;padding-left: 0.2em;position: relative;}#sk-container-id-8 div.sk-item {position: relative;z-index: 1;}#sk-container-id-8 div.sk-parallel {display: flex;align-items: stretch;justify-content: center;background-color: white;position: relative;}#sk-container-id-8 div.sk-item::before, #sk-container-id-8 div.sk-parallel-item::before {content: \"\";position: absolute;border-left: 1px solid gray;box-sizing: border-box;top: 0;bottom: 0;left: 50%;z-index: -1;}#sk-container-id-8 div.sk-parallel-item {display: flex;flex-direction: column;z-index: 1;position: relative;background-color: white;}#sk-container-id-8 div.sk-parallel-item:first-child::after {align-self: flex-end;width: 50%;}#sk-container-id-8 div.sk-parallel-item:last-child::after {align-self: flex-start;width: 50%;}#sk-container-id-8 div.sk-parallel-item:only-child::after {width: 0;}#sk-container-id-8 div.sk-dashed-wrapped {border: 1px dashed gray;margin: 0 0.4em 0.5em 0.4em;box-sizing: border-box;padding-bottom: 0.4em;background-color: white;}#sk-container-id-8 div.sk-label label {font-family: monospace;font-weight: bold;display: inline-block;line-height: 1.2em;}#sk-container-id-8 div.sk-label-container {text-align: center;}#sk-container-id-8 div.sk-container {/* jupyter's `normalize.less` sets `[hidden] { display: none; }` but bootstrap.min.css set `[hidden] { display: none !important; }` so we also need the `!important` here to be able to override the default hidden behavior on the sphinx rendered scikit-learn.org. See: https://github.com/scikit-learn/scikit-learn/issues/21755 */display: inline-block !important;position: relative;}#sk-container-id-8 div.sk-text-repr-fallback {display: none;}</style><div id=\"sk-container-id-8\" class=\"sk-top-container\"><div class=\"sk-text-repr-fallback\"><pre>RFE(estimator=RandomForestClassifier(n_estimators=300, random_state=0),\n",
       "    n_features_to_select=46)</pre><b>In a Jupyter environment, please rerun this cell to show the HTML representation or trust the notebook. <br />On GitHub, the HTML representation is unable to render, please try loading this page with nbviewer.org.</b></div><div class=\"sk-container\" hidden><div class=\"sk-item sk-dashed-wrapped\"><div class=\"sk-label-container\"><div class=\"sk-label sk-toggleable\"><input class=\"sk-toggleable__control sk-hidden--visually\" id=\"sk-estimator-id-8\" type=\"checkbox\" ><label for=\"sk-estimator-id-8\" class=\"sk-toggleable__label sk-toggleable__label-arrow\">RFE</label><div class=\"sk-toggleable__content\"><pre>RFE(estimator=RandomForestClassifier(n_estimators=300, random_state=0),\n",
       "    n_features_to_select=46)</pre></div></div></div><div class=\"sk-parallel\"><div class=\"sk-parallel-item\"><div class=\"sk-item\"><div class=\"sk-label-container\"><div class=\"sk-label sk-toggleable\"><input class=\"sk-toggleable__control sk-hidden--visually\" id=\"sk-estimator-id-9\" type=\"checkbox\" ><label for=\"sk-estimator-id-9\" class=\"sk-toggleable__label sk-toggleable__label-arrow\">estimator: RandomForestClassifier</label><div class=\"sk-toggleable__content\"><pre>RandomForestClassifier(n_estimators=300, random_state=0)</pre></div></div></div><div class=\"sk-serial\"><div class=\"sk-item\"><div class=\"sk-estimator sk-toggleable\"><input class=\"sk-toggleable__control sk-hidden--visually\" id=\"sk-estimator-id-10\" type=\"checkbox\" ><label for=\"sk-estimator-id-10\" class=\"sk-toggleable__label sk-toggleable__label-arrow\">RandomForestClassifier</label><div class=\"sk-toggleable__content\"><pre>RandomForestClassifier(n_estimators=300, random_state=0)</pre></div></div></div></div></div></div></div></div></div></div>"
      ],
      "text/plain": [
       "RFE(estimator=RandomForestClassifier(n_estimators=300, random_state=0),\n",
       "    n_features_to_select=46)"
      ]
     },
     "execution_count": 122,
     "metadata": {},
     "output_type": "execute_result"
    }
   ],
   "source": [
    "rfe1.fit(X_train_scaled, y_train)"
   ]
  },
  {
   "cell_type": "code",
   "execution_count": 123,
   "id": "22b7f1ca",
   "metadata": {},
   "outputs": [
    {
     "data": {
      "text/plain": [
       "46"
      ]
     },
     "execution_count": 123,
     "metadata": {},
     "output_type": "execute_result"
    }
   ],
   "source": [
    "selected_feat = X_train_scaled.columns[(rfe1.get_support())]\n",
    "len(selected_feat)"
   ]
  },
  {
   "cell_type": "code",
   "execution_count": 124,
   "id": "fda54e0f",
   "metadata": {},
   "outputs": [
    {
     "data": {
      "text/plain": [
       "Index(['qty_dot_url', 'qty_hyphen_url', 'qty_slash_url', 'length_url',\n",
       "       'qty_dot_domain', 'qty_vowels_domain', 'domain_length',\n",
       "       'qty_dot_directory', 'qty_hyphen_directory', 'qty_underline_directory',\n",
       "       'qty_slash_directory', 'qty_questionmark_directory', 'qty_at_directory',\n",
       "       'qty_and_directory', 'qty_tilde_directory', 'qty_comma_directory',\n",
       "       'qty_plus_directory', 'qty_asterisk_directory', 'qty_hashtag_directory',\n",
       "       'qty_dollar_directory', 'qty_percent_directory', 'directory_length',\n",
       "       'qty_dot_file', 'qty_hyphen_file', 'qty_underline_file',\n",
       "       'qty_questionmark_file', 'qty_equal_file', 'qty_at_file',\n",
       "       'qty_and_file', 'qty_exclamation_file', 'qty_tilde_file',\n",
       "       'qty_comma_file', 'qty_plus_file', 'qty_asterisk_file',\n",
       "       'qty_hashtag_file', 'qty_percent_file', 'file_length', 'time_response',\n",
       "       'asn_ip', 'time_domain_activation', 'time_domain_expiration',\n",
       "       'qty_ip_resolved', 'qty_nameservers', 'qty_mx_servers', 'ttl_hostname',\n",
       "       'qty_redirects'],\n",
       "      dtype='object')"
      ]
     },
     "execution_count": 124,
     "metadata": {},
     "output_type": "execute_result"
    }
   ],
   "source": [
    "selected_feat"
   ]
  },
  {
   "cell_type": "code",
   "execution_count": 125,
   "id": "668d82de",
   "metadata": {},
   "outputs": [],
   "source": [
    "X_train_selected = X_train_scaled[selected_feat]\n",
    "X_test_selected = X_test_scaled[selected_feat]"
   ]
  },
  {
   "cell_type": "markdown",
   "id": "3dbb3ce9",
   "metadata": {},
   "source": [
    "**Random forrest with 46 features**"
   ]
  },
  {
   "cell_type": "code",
   "execution_count": 126,
   "id": "6ec700f1",
   "metadata": {},
   "outputs": [
    {
     "name": "stdout",
     "output_type": "stream",
     "text": [
      "Recall Test: 0.956\n",
      "Recall Train: 1.0\n",
      "Auc Roc Test: 0.961\n",
      "Auc Roc Train: 1.0\n"
     ]
    }
   ],
   "source": [
    "model(rf, X_train_scaled, X_test_scaled)"
   ]
  },
  {
   "cell_type": "code",
   "execution_count": 127,
   "id": "a9b4d149",
   "metadata": {},
   "outputs": [
    {
     "name": "stdout",
     "output_type": "stream",
     "text": [
      "Recall Test: 0.958\n",
      "Recall Train: 1.0\n",
      "Auc Roc Test: 0.962\n",
      "Auc Roc Train: 1.0\n"
     ]
    }
   ],
   "source": [
    "model(rf, X_train_selected, X_test_selected)"
   ]
  },
  {
   "cell_type": "code",
   "execution_count": 128,
   "id": "3c741350",
   "metadata": {},
   "outputs": [
    {
     "name": "stdout",
     "output_type": "stream",
     "text": [
      "Recall Test: 0.947\n",
      "Recall Train: 1.0\n",
      "Auc Roc Test: 0.948\n",
      "Auc Roc Train: 1.0\n"
     ]
    }
   ],
   "source": [
    "model(rf, X_train_pca, X_test_pca)"
   ]
  },
  {
   "cell_type": "code",
   "execution_count": 129,
   "id": "c6a33761",
   "metadata": {},
   "outputs": [
    {
     "name": "stdout",
     "output_type": "stream",
     "text": [
      "Recall Test: 0.943\n",
      "Recall Train: 0.995\n",
      "Auc Roc Test: 0.953\n",
      "Auc Roc Train: 0.997\n"
     ]
    }
   ],
   "source": [
    "model(rf, X_train_selected2, X_test_selected2)"
   ]
  },
  {
   "cell_type": "code",
   "execution_count": 130,
   "id": "4258b605",
   "metadata": {},
   "outputs": [],
   "source": [
    "#feature_names = X_train_selected.columns"
   ]
  },
  {
   "cell_type": "markdown",
   "id": "6af81b35",
   "metadata": {},
   "source": [
    "**XG Boost**"
   ]
  },
  {
   "cell_type": "code",
   "execution_count": 131,
   "id": "19af7c4a",
   "metadata": {},
   "outputs": [
    {
     "name": "stdout",
     "output_type": "stream",
     "text": [
      "Recall Test: 0.954\n",
      "Recall Train: 0.993\n",
      "Auc Roc Test: 0.961\n",
      "Auc Roc Train: 0.995\n"
     ]
    }
   ],
   "source": [
    "model(xg, X_train_scaled, X_test_scaled)"
   ]
  },
  {
   "cell_type": "code",
   "execution_count": 132,
   "id": "8d79373b",
   "metadata": {},
   "outputs": [
    {
     "name": "stdout",
     "output_type": "stream",
     "text": [
      "Recall Test: 0.946\n",
      "Recall Train: 0.993\n",
      "Auc Roc Test: 0.957\n",
      "Auc Roc Train: 0.995\n"
     ]
    }
   ],
   "source": [
    "model(xg, X_train_selected, X_test_selected)"
   ]
  },
  {
   "cell_type": "code",
   "execution_count": 133,
   "id": "b5139f6e",
   "metadata": {},
   "outputs": [
    {
     "name": "stdout",
     "output_type": "stream",
     "text": [
      "Recall Test: 0.937\n",
      "Recall Train: 1.0\n",
      "Auc Roc Test: 0.947\n",
      "Auc Roc Train: 1.0\n"
     ]
    }
   ],
   "source": [
    "model(xg, X_train_pca, X_test_pca)"
   ]
  },
  {
   "cell_type": "code",
   "execution_count": 134,
   "id": "b64444e5",
   "metadata": {},
   "outputs": [
    {
     "name": "stdout",
     "output_type": "stream",
     "text": [
      "Recall Test: 0.943\n",
      "Recall Train: 0.968\n",
      "Auc Roc Test: 0.951\n",
      "Auc Roc Train: 0.975\n"
     ]
    }
   ],
   "source": [
    "model(xg, X_train_selected2, X_test_selected2)"
   ]
  },
  {
   "cell_type": "markdown",
   "id": "8be7eac2",
   "metadata": {},
   "source": [
    "## Tuning the model"
   ]
  },
  {
   "cell_type": "code",
   "execution_count": 162,
   "id": "d426b415",
   "metadata": {},
   "outputs": [],
   "source": [
    "log_reg = LogisticRegression(max_iter=10000)"
   ]
  },
  {
   "cell_type": "code",
   "execution_count": 163,
   "id": "b1c7f433",
   "metadata": {},
   "outputs": [
    {
     "data": {
      "text/html": [
       "<style>#sk-container-id-18 {color: black;}#sk-container-id-18 pre{padding: 0;}#sk-container-id-18 div.sk-toggleable {background-color: white;}#sk-container-id-18 label.sk-toggleable__label {cursor: pointer;display: block;width: 100%;margin-bottom: 0;padding: 0.3em;box-sizing: border-box;text-align: center;}#sk-container-id-18 label.sk-toggleable__label-arrow:before {content: \"▸\";float: left;margin-right: 0.25em;color: #696969;}#sk-container-id-18 label.sk-toggleable__label-arrow:hover:before {color: black;}#sk-container-id-18 div.sk-estimator:hover label.sk-toggleable__label-arrow:before {color: black;}#sk-container-id-18 div.sk-toggleable__content {max-height: 0;max-width: 0;overflow: hidden;text-align: left;background-color: #f0f8ff;}#sk-container-id-18 div.sk-toggleable__content pre {margin: 0.2em;color: black;border-radius: 0.25em;background-color: #f0f8ff;}#sk-container-id-18 input.sk-toggleable__control:checked~div.sk-toggleable__content {max-height: 200px;max-width: 100%;overflow: auto;}#sk-container-id-18 input.sk-toggleable__control:checked~label.sk-toggleable__label-arrow:before {content: \"▾\";}#sk-container-id-18 div.sk-estimator input.sk-toggleable__control:checked~label.sk-toggleable__label {background-color: #d4ebff;}#sk-container-id-18 div.sk-label input.sk-toggleable__control:checked~label.sk-toggleable__label {background-color: #d4ebff;}#sk-container-id-18 input.sk-hidden--visually {border: 0;clip: rect(1px 1px 1px 1px);clip: rect(1px, 1px, 1px, 1px);height: 1px;margin: -1px;overflow: hidden;padding: 0;position: absolute;width: 1px;}#sk-container-id-18 div.sk-estimator {font-family: monospace;background-color: #f0f8ff;border: 1px dotted black;border-radius: 0.25em;box-sizing: border-box;margin-bottom: 0.5em;}#sk-container-id-18 div.sk-estimator:hover {background-color: #d4ebff;}#sk-container-id-18 div.sk-parallel-item::after {content: \"\";width: 100%;border-bottom: 1px solid gray;flex-grow: 1;}#sk-container-id-18 div.sk-label:hover label.sk-toggleable__label {background-color: #d4ebff;}#sk-container-id-18 div.sk-serial::before {content: \"\";position: absolute;border-left: 1px solid gray;box-sizing: border-box;top: 0;bottom: 0;left: 50%;z-index: 0;}#sk-container-id-18 div.sk-serial {display: flex;flex-direction: column;align-items: center;background-color: white;padding-right: 0.2em;padding-left: 0.2em;position: relative;}#sk-container-id-18 div.sk-item {position: relative;z-index: 1;}#sk-container-id-18 div.sk-parallel {display: flex;align-items: stretch;justify-content: center;background-color: white;position: relative;}#sk-container-id-18 div.sk-item::before, #sk-container-id-18 div.sk-parallel-item::before {content: \"\";position: absolute;border-left: 1px solid gray;box-sizing: border-box;top: 0;bottom: 0;left: 50%;z-index: -1;}#sk-container-id-18 div.sk-parallel-item {display: flex;flex-direction: column;z-index: 1;position: relative;background-color: white;}#sk-container-id-18 div.sk-parallel-item:first-child::after {align-self: flex-end;width: 50%;}#sk-container-id-18 div.sk-parallel-item:last-child::after {align-self: flex-start;width: 50%;}#sk-container-id-18 div.sk-parallel-item:only-child::after {width: 0;}#sk-container-id-18 div.sk-dashed-wrapped {border: 1px dashed gray;margin: 0 0.4em 0.5em 0.4em;box-sizing: border-box;padding-bottom: 0.4em;background-color: white;}#sk-container-id-18 div.sk-label label {font-family: monospace;font-weight: bold;display: inline-block;line-height: 1.2em;}#sk-container-id-18 div.sk-label-container {text-align: center;}#sk-container-id-18 div.sk-container {/* jupyter's `normalize.less` sets `[hidden] { display: none; }` but bootstrap.min.css set `[hidden] { display: none !important; }` so we also need the `!important` here to be able to override the default hidden behavior on the sphinx rendered scikit-learn.org. See: https://github.com/scikit-learn/scikit-learn/issues/21755 */display: inline-block !important;position: relative;}#sk-container-id-18 div.sk-text-repr-fallback {display: none;}</style><div id=\"sk-container-id-18\" class=\"sk-top-container\"><div class=\"sk-text-repr-fallback\"><pre>LogisticRegression(max_iter=10000)</pre><b>In a Jupyter environment, please rerun this cell to show the HTML representation or trust the notebook. <br />On GitHub, the HTML representation is unable to render, please try loading this page with nbviewer.org.</b></div><div class=\"sk-container\" hidden><div class=\"sk-item\"><div class=\"sk-estimator sk-toggleable\"><input class=\"sk-toggleable__control sk-hidden--visually\" id=\"sk-estimator-id-22\" type=\"checkbox\" checked><label for=\"sk-estimator-id-22\" class=\"sk-toggleable__label sk-toggleable__label-arrow\">LogisticRegression</label><div class=\"sk-toggleable__content\"><pre>LogisticRegression(max_iter=10000)</pre></div></div></div></div></div>"
      ],
      "text/plain": [
       "LogisticRegression(max_iter=10000)"
      ]
     },
     "execution_count": 163,
     "metadata": {},
     "output_type": "execute_result"
    }
   ],
   "source": [
    "log_reg.fit(X_train_scaled, y_train)"
   ]
  },
  {
   "cell_type": "code",
   "execution_count": null,
   "id": "d3375695",
   "metadata": {},
   "outputs": [],
   "source": []
  },
  {
   "cell_type": "code",
   "execution_count": 164,
   "id": "4f502710",
   "metadata": {},
   "outputs": [
    {
     "name": "stdout",
     "output_type": "stream",
     "text": [
      "Recall Test: 0.925\n",
      "Recall Train: 0.923\n",
      "Auc Roc Test: 0.919\n",
      "Auc Roc Train: 0.919\n"
     ]
    }
   ],
   "source": [
    "calculate_scores(log_reg, X_train_scaled, X_test_scaled)"
   ]
  },
  {
   "cell_type": "code",
   "execution_count": 165,
   "id": "ffe2db94",
   "metadata": {},
   "outputs": [
    {
     "data": {
      "text/html": [
       "<style>#sk-container-id-19 {color: black;}#sk-container-id-19 pre{padding: 0;}#sk-container-id-19 div.sk-toggleable {background-color: white;}#sk-container-id-19 label.sk-toggleable__label {cursor: pointer;display: block;width: 100%;margin-bottom: 0;padding: 0.3em;box-sizing: border-box;text-align: center;}#sk-container-id-19 label.sk-toggleable__label-arrow:before {content: \"▸\";float: left;margin-right: 0.25em;color: #696969;}#sk-container-id-19 label.sk-toggleable__label-arrow:hover:before {color: black;}#sk-container-id-19 div.sk-estimator:hover label.sk-toggleable__label-arrow:before {color: black;}#sk-container-id-19 div.sk-toggleable__content {max-height: 0;max-width: 0;overflow: hidden;text-align: left;background-color: #f0f8ff;}#sk-container-id-19 div.sk-toggleable__content pre {margin: 0.2em;color: black;border-radius: 0.25em;background-color: #f0f8ff;}#sk-container-id-19 input.sk-toggleable__control:checked~div.sk-toggleable__content {max-height: 200px;max-width: 100%;overflow: auto;}#sk-container-id-19 input.sk-toggleable__control:checked~label.sk-toggleable__label-arrow:before {content: \"▾\";}#sk-container-id-19 div.sk-estimator input.sk-toggleable__control:checked~label.sk-toggleable__label {background-color: #d4ebff;}#sk-container-id-19 div.sk-label input.sk-toggleable__control:checked~label.sk-toggleable__label {background-color: #d4ebff;}#sk-container-id-19 input.sk-hidden--visually {border: 0;clip: rect(1px 1px 1px 1px);clip: rect(1px, 1px, 1px, 1px);height: 1px;margin: -1px;overflow: hidden;padding: 0;position: absolute;width: 1px;}#sk-container-id-19 div.sk-estimator {font-family: monospace;background-color: #f0f8ff;border: 1px dotted black;border-radius: 0.25em;box-sizing: border-box;margin-bottom: 0.5em;}#sk-container-id-19 div.sk-estimator:hover {background-color: #d4ebff;}#sk-container-id-19 div.sk-parallel-item::after {content: \"\";width: 100%;border-bottom: 1px solid gray;flex-grow: 1;}#sk-container-id-19 div.sk-label:hover label.sk-toggleable__label {background-color: #d4ebff;}#sk-container-id-19 div.sk-serial::before {content: \"\";position: absolute;border-left: 1px solid gray;box-sizing: border-box;top: 0;bottom: 0;left: 50%;z-index: 0;}#sk-container-id-19 div.sk-serial {display: flex;flex-direction: column;align-items: center;background-color: white;padding-right: 0.2em;padding-left: 0.2em;position: relative;}#sk-container-id-19 div.sk-item {position: relative;z-index: 1;}#sk-container-id-19 div.sk-parallel {display: flex;align-items: stretch;justify-content: center;background-color: white;position: relative;}#sk-container-id-19 div.sk-item::before, #sk-container-id-19 div.sk-parallel-item::before {content: \"\";position: absolute;border-left: 1px solid gray;box-sizing: border-box;top: 0;bottom: 0;left: 50%;z-index: -1;}#sk-container-id-19 div.sk-parallel-item {display: flex;flex-direction: column;z-index: 1;position: relative;background-color: white;}#sk-container-id-19 div.sk-parallel-item:first-child::after {align-self: flex-end;width: 50%;}#sk-container-id-19 div.sk-parallel-item:last-child::after {align-self: flex-start;width: 50%;}#sk-container-id-19 div.sk-parallel-item:only-child::after {width: 0;}#sk-container-id-19 div.sk-dashed-wrapped {border: 1px dashed gray;margin: 0 0.4em 0.5em 0.4em;box-sizing: border-box;padding-bottom: 0.4em;background-color: white;}#sk-container-id-19 div.sk-label label {font-family: monospace;font-weight: bold;display: inline-block;line-height: 1.2em;}#sk-container-id-19 div.sk-label-container {text-align: center;}#sk-container-id-19 div.sk-container {/* jupyter's `normalize.less` sets `[hidden] { display: none; }` but bootstrap.min.css set `[hidden] { display: none !important; }` so we also need the `!important` here to be able to override the default hidden behavior on the sphinx rendered scikit-learn.org. See: https://github.com/scikit-learn/scikit-learn/issues/21755 */display: inline-block !important;position: relative;}#sk-container-id-19 div.sk-text-repr-fallback {display: none;}</style><div id=\"sk-container-id-19\" class=\"sk-top-container\"><div class=\"sk-text-repr-fallback\"><pre>LogisticRegression(max_iter=10000)</pre><b>In a Jupyter environment, please rerun this cell to show the HTML representation or trust the notebook. <br />On GitHub, the HTML representation is unable to render, please try loading this page with nbviewer.org.</b></div><div class=\"sk-container\" hidden><div class=\"sk-item\"><div class=\"sk-estimator sk-toggleable\"><input class=\"sk-toggleable__control sk-hidden--visually\" id=\"sk-estimator-id-23\" type=\"checkbox\" checked><label for=\"sk-estimator-id-23\" class=\"sk-toggleable__label sk-toggleable__label-arrow\">LogisticRegression</label><div class=\"sk-toggleable__content\"><pre>LogisticRegression(max_iter=10000)</pre></div></div></div></div></div>"
      ],
      "text/plain": [
       "LogisticRegression(max_iter=10000)"
      ]
     },
     "execution_count": 165,
     "metadata": {},
     "output_type": "execute_result"
    }
   ],
   "source": [
    "log_reg.fit(X_train_selected2, y_train)"
   ]
  },
  {
   "cell_type": "code",
   "execution_count": 166,
   "id": "9d2c71c5",
   "metadata": {},
   "outputs": [
    {
     "name": "stdout",
     "output_type": "stream",
     "text": [
      "Recall Test: 0.921\n",
      "Recall Train: 0.917\n",
      "Auc Roc Test: 0.911\n",
      "Auc Roc Train: 0.909\n"
     ]
    }
   ],
   "source": [
    "calculate_scores(log_reg, X_train_selected2, X_test_selected2)"
   ]
  },
  {
   "cell_type": "markdown",
   "id": "220a3202",
   "metadata": {},
   "source": [
    "## GridSearchCV"
   ]
  },
  {
   "cell_type": "code",
   "execution_count": 135,
   "id": "9d1c1637",
   "metadata": {},
   "outputs": [],
   "source": [
    "param_grid = {\n",
    "    'n_estimators': [50, 100, 200],\n",
    "    'max_depth': [None, 10, 20, 30],\n",
    "    'min_samples_split': [2, 5, 10],\n",
    "    'min_samples_leaf': [1, 2, 4],\n",
    "    'bootstrap': [True, False]\n",
    "}"
   ]
  },
  {
   "cell_type": "code",
   "execution_count": 136,
   "id": "aaea9b30",
   "metadata": {},
   "outputs": [],
   "source": [
    "recall_scorer = make_scorer(recall_score)"
   ]
  },
  {
   "cell_type": "code",
   "execution_count": 137,
   "id": "429f77b5",
   "metadata": {},
   "outputs": [],
   "source": [
    "rf_grid = RandomForestClassifier(random_state=0)\n",
    "grid_search_rf = GridSearchCV(estimator=rf_grid, param_grid=param_grid, scoring=recall_scorer, cv=5, n_jobs=-1, verbose=0)"
   ]
  },
  {
   "cell_type": "code",
   "execution_count": 138,
   "id": "d75773e6",
   "metadata": {},
   "outputs": [
    {
     "data": {
      "text/html": [
       "<style>#sk-container-id-9 {color: black;}#sk-container-id-9 pre{padding: 0;}#sk-container-id-9 div.sk-toggleable {background-color: white;}#sk-container-id-9 label.sk-toggleable__label {cursor: pointer;display: block;width: 100%;margin-bottom: 0;padding: 0.3em;box-sizing: border-box;text-align: center;}#sk-container-id-9 label.sk-toggleable__label-arrow:before {content: \"▸\";float: left;margin-right: 0.25em;color: #696969;}#sk-container-id-9 label.sk-toggleable__label-arrow:hover:before {color: black;}#sk-container-id-9 div.sk-estimator:hover label.sk-toggleable__label-arrow:before {color: black;}#sk-container-id-9 div.sk-toggleable__content {max-height: 0;max-width: 0;overflow: hidden;text-align: left;background-color: #f0f8ff;}#sk-container-id-9 div.sk-toggleable__content pre {margin: 0.2em;color: black;border-radius: 0.25em;background-color: #f0f8ff;}#sk-container-id-9 input.sk-toggleable__control:checked~div.sk-toggleable__content {max-height: 200px;max-width: 100%;overflow: auto;}#sk-container-id-9 input.sk-toggleable__control:checked~label.sk-toggleable__label-arrow:before {content: \"▾\";}#sk-container-id-9 div.sk-estimator input.sk-toggleable__control:checked~label.sk-toggleable__label {background-color: #d4ebff;}#sk-container-id-9 div.sk-label input.sk-toggleable__control:checked~label.sk-toggleable__label {background-color: #d4ebff;}#sk-container-id-9 input.sk-hidden--visually {border: 0;clip: rect(1px 1px 1px 1px);clip: rect(1px, 1px, 1px, 1px);height: 1px;margin: -1px;overflow: hidden;padding: 0;position: absolute;width: 1px;}#sk-container-id-9 div.sk-estimator {font-family: monospace;background-color: #f0f8ff;border: 1px dotted black;border-radius: 0.25em;box-sizing: border-box;margin-bottom: 0.5em;}#sk-container-id-9 div.sk-estimator:hover {background-color: #d4ebff;}#sk-container-id-9 div.sk-parallel-item::after {content: \"\";width: 100%;border-bottom: 1px solid gray;flex-grow: 1;}#sk-container-id-9 div.sk-label:hover label.sk-toggleable__label {background-color: #d4ebff;}#sk-container-id-9 div.sk-serial::before {content: \"\";position: absolute;border-left: 1px solid gray;box-sizing: border-box;top: 0;bottom: 0;left: 50%;z-index: 0;}#sk-container-id-9 div.sk-serial {display: flex;flex-direction: column;align-items: center;background-color: white;padding-right: 0.2em;padding-left: 0.2em;position: relative;}#sk-container-id-9 div.sk-item {position: relative;z-index: 1;}#sk-container-id-9 div.sk-parallel {display: flex;align-items: stretch;justify-content: center;background-color: white;position: relative;}#sk-container-id-9 div.sk-item::before, #sk-container-id-9 div.sk-parallel-item::before {content: \"\";position: absolute;border-left: 1px solid gray;box-sizing: border-box;top: 0;bottom: 0;left: 50%;z-index: -1;}#sk-container-id-9 div.sk-parallel-item {display: flex;flex-direction: column;z-index: 1;position: relative;background-color: white;}#sk-container-id-9 div.sk-parallel-item:first-child::after {align-self: flex-end;width: 50%;}#sk-container-id-9 div.sk-parallel-item:last-child::after {align-self: flex-start;width: 50%;}#sk-container-id-9 div.sk-parallel-item:only-child::after {width: 0;}#sk-container-id-9 div.sk-dashed-wrapped {border: 1px dashed gray;margin: 0 0.4em 0.5em 0.4em;box-sizing: border-box;padding-bottom: 0.4em;background-color: white;}#sk-container-id-9 div.sk-label label {font-family: monospace;font-weight: bold;display: inline-block;line-height: 1.2em;}#sk-container-id-9 div.sk-label-container {text-align: center;}#sk-container-id-9 div.sk-container {/* jupyter's `normalize.less` sets `[hidden] { display: none; }` but bootstrap.min.css set `[hidden] { display: none !important; }` so we also need the `!important` here to be able to override the default hidden behavior on the sphinx rendered scikit-learn.org. See: https://github.com/scikit-learn/scikit-learn/issues/21755 */display: inline-block !important;position: relative;}#sk-container-id-9 div.sk-text-repr-fallback {display: none;}</style><div id=\"sk-container-id-9\" class=\"sk-top-container\"><div class=\"sk-text-repr-fallback\"><pre>GridSearchCV(cv=5, estimator=RandomForestClassifier(random_state=0), n_jobs=-1,\n",
       "             param_grid={&#x27;bootstrap&#x27;: [True, False],\n",
       "                         &#x27;max_depth&#x27;: [None, 10, 20, 30],\n",
       "                         &#x27;min_samples_leaf&#x27;: [1, 2, 4],\n",
       "                         &#x27;min_samples_split&#x27;: [2, 5, 10],\n",
       "                         &#x27;n_estimators&#x27;: [50, 100, 200]},\n",
       "             scoring=make_scorer(recall_score))</pre><b>In a Jupyter environment, please rerun this cell to show the HTML representation or trust the notebook. <br />On GitHub, the HTML representation is unable to render, please try loading this page with nbviewer.org.</b></div><div class=\"sk-container\" hidden><div class=\"sk-item sk-dashed-wrapped\"><div class=\"sk-label-container\"><div class=\"sk-label sk-toggleable\"><input class=\"sk-toggleable__control sk-hidden--visually\" id=\"sk-estimator-id-11\" type=\"checkbox\" ><label for=\"sk-estimator-id-11\" class=\"sk-toggleable__label sk-toggleable__label-arrow\">GridSearchCV</label><div class=\"sk-toggleable__content\"><pre>GridSearchCV(cv=5, estimator=RandomForestClassifier(random_state=0), n_jobs=-1,\n",
       "             param_grid={&#x27;bootstrap&#x27;: [True, False],\n",
       "                         &#x27;max_depth&#x27;: [None, 10, 20, 30],\n",
       "                         &#x27;min_samples_leaf&#x27;: [1, 2, 4],\n",
       "                         &#x27;min_samples_split&#x27;: [2, 5, 10],\n",
       "                         &#x27;n_estimators&#x27;: [50, 100, 200]},\n",
       "             scoring=make_scorer(recall_score))</pre></div></div></div><div class=\"sk-parallel\"><div class=\"sk-parallel-item\"><div class=\"sk-item\"><div class=\"sk-label-container\"><div class=\"sk-label sk-toggleable\"><input class=\"sk-toggleable__control sk-hidden--visually\" id=\"sk-estimator-id-12\" type=\"checkbox\" ><label for=\"sk-estimator-id-12\" class=\"sk-toggleable__label sk-toggleable__label-arrow\">estimator: RandomForestClassifier</label><div class=\"sk-toggleable__content\"><pre>RandomForestClassifier(random_state=0)</pre></div></div></div><div class=\"sk-serial\"><div class=\"sk-item\"><div class=\"sk-estimator sk-toggleable\"><input class=\"sk-toggleable__control sk-hidden--visually\" id=\"sk-estimator-id-13\" type=\"checkbox\" ><label for=\"sk-estimator-id-13\" class=\"sk-toggleable__label sk-toggleable__label-arrow\">RandomForestClassifier</label><div class=\"sk-toggleable__content\"><pre>RandomForestClassifier(random_state=0)</pre></div></div></div></div></div></div></div></div></div></div>"
      ],
      "text/plain": [
       "GridSearchCV(cv=5, estimator=RandomForestClassifier(random_state=0), n_jobs=-1,\n",
       "             param_grid={'bootstrap': [True, False],\n",
       "                         'max_depth': [None, 10, 20, 30],\n",
       "                         'min_samples_leaf': [1, 2, 4],\n",
       "                         'min_samples_split': [2, 5, 10],\n",
       "                         'n_estimators': [50, 100, 200]},\n",
       "             scoring=make_scorer(recall_score))"
      ]
     },
     "execution_count": 138,
     "metadata": {},
     "output_type": "execute_result"
    }
   ],
   "source": [
    "grid_search_rf.fit(X_train_selected, y_train)"
   ]
  },
  {
   "cell_type": "code",
   "execution_count": 139,
   "id": "24a64278",
   "metadata": {},
   "outputs": [],
   "source": [
    "best_params = grid_search_rf.best_params_\n",
    "best_model = grid_search_rf.best_estimator_"
   ]
  },
  {
   "cell_type": "code",
   "execution_count": 140,
   "id": "76758c31",
   "metadata": {},
   "outputs": [
    {
     "name": "stdout",
     "output_type": "stream",
     "text": [
      "Best Parameters: {'bootstrap': False, 'max_depth': 20, 'min_samples_leaf': 2, 'min_samples_split': 5, 'n_estimators': 200}\n"
     ]
    }
   ],
   "source": [
    "print(f'Best Parameters: {best_params}')"
   ]
  },
  {
   "cell_type": "code",
   "execution_count": 142,
   "id": "5f152b5e",
   "metadata": {},
   "outputs": [
    {
     "name": "stdout",
     "output_type": "stream",
     "text": [
      "Recall Test: 0.954\n",
      "Recall Train: 0.99\n",
      "Auc Roc Test: 0.96\n",
      "Auc Roc Train: 0.994\n"
     ]
    }
   ],
   "source": [
    "model(best_model, X_train_selected, X_test_selected)"
   ]
  },
  {
   "cell_type": "code",
   "execution_count": null,
   "id": "d0092cf1",
   "metadata": {},
   "outputs": [],
   "source": []
  }
 ],
 "metadata": {
  "kernelspec": {
   "display_name": "Python 3 (ipykernel)",
   "language": "python",
   "name": "python3"
  },
  "language_info": {
   "codemirror_mode": {
    "name": "ipython",
    "version": 3
   },
   "file_extension": ".py",
   "mimetype": "text/x-python",
   "name": "python",
   "nbconvert_exporter": "python",
   "pygments_lexer": "ipython3",
   "version": "3.11.8"
  }
 },
 "nbformat": 4,
 "nbformat_minor": 5
}
